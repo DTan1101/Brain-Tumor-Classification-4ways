{
  "cells": [
    {
      "cell_type": "markdown",
      "metadata": {},
      "source": [
        "## 0. Setup "
      ]
    },
    {
      "cell_type": "code",
      "execution_count": null,
      "metadata": {
        "colab": {
          "base_uri": "https://localhost:8080/"
        },
        "id": "XvQ_bh5eSRyf",
        "outputId": "5532f8f9-3ddf-488c-a7d0-86d736de7015"
      },
      "outputs": [
        {
          "name": "stdout",
          "output_type": "stream",
          "text": [
            "Environment initialized.\n"
          ]
        }
      ],
      "source": [
        "from pathlib import Path\n",
        "import os, random, numpy as np\n",
        "\n",
        "DATA_ROOT   = Path(\"/content/drive/MyDrive/data/brisc2025/classification_task\")\n",
        "OUT_DIR     = Path(\"outputs\")\n",
        "REPORTS_DIR = OUT_DIR / \"reports\"\n",
        "MODELS_DIR  = OUT_DIR / \"models\"\n",
        "for d in (OUT_DIR, REPORTS_DIR, MODELS_DIR):\n",
        "    d.mkdir(parents=True, exist_ok=True)\n",
        "\n",
        "IMG_SIZE     = 128\n",
        "CLASS_NAMES  = [\"glioma\", \"meningioma\", \"no_tumor\", \"pituitary\"]\n",
        "SEARCH_CV    = 5\n",
        "N_JOBS       = -1\n",
        "PCA_VAR      = 0.95\n",
        "RANDOM_STATE = 42\n",
        "\n",
        "os.environ[\"PYTHONHASHSEED\"] = str(RANDOM_STATE)\n",
        "random.seed(RANDOM_STATE)\n",
        "np.random.seed(RANDOM_STATE)\n",
        "\n",
        "STATE = {\n",
        "    \"X_train\": None, \"y_train\": None,\n",
        "    \"X_test\": None,  \"y_test\": None,\n",
        "    \"pipeline\": None,\n",
        "    \"best_params\": None,\n",
        "}\n",
        "print(\"Environment initialized.\")"
      ]
    },
    {
      "cell_type": "markdown",
      "metadata": {},
      "source": [
        " ## 1. Imports"
      ]
    },
    {
      "cell_type": "code",
      "execution_count": null,
      "metadata": {
        "id": "vcfNtfF0W0_o"
      },
      "outputs": [],
      "source": [
        "import cv2, json, matplotlib.pyplot as plt, numpy as np, pandas as pd\n",
        "from pathlib import Path\n",
        "from sklearn.base import BaseEstimator, TransformerMixin\n",
        "from sklearn.preprocessing import StandardScaler\n",
        "from sklearn.decomposition import PCA\n",
        "from sklearn.ensemble import RandomForestClassifier\n",
        "from sklearn.pipeline import Pipeline\n",
        "from sklearn.model_selection import RandomizedSearchCV, StratifiedKFold\n",
        "from sklearn.metrics import (\n",
        "    classification_report, confusion_matrix,\n",
        "    accuracy_score, balanced_accuracy_score, f1_score\n",
        ")"
      ]
    },
    {
      "cell_type": "markdown",
      "metadata": {},
      "source": [
        "## 2. Data Preprocessing - IO"
      ]
    },
    {
      "cell_type": "code",
      "execution_count": null,
      "metadata": {
        "id": "5jVP2LsiW_-Y"
      },
      "outputs": [],
      "source": [
        "from typing import Sequence, Tuple, List\n",
        "\n",
        "def resize_letterbox(img: np.ndarray, target: int = IMG_SIZE) -> np.ndarray:\n",
        "    if img.shape[0] == target and img.shape[1] == target:\n",
        "        return img\n",
        "    h, w = img.shape[:2]\n",
        "    scale = target / max(h, w)\n",
        "    new_w, new_h = int(w * scale), int(h * scale)\n",
        "    interp = cv2.INTER_AREA if scale < 1.0 else cv2.INTER_CUBIC\n",
        "    img_resized = cv2.resize(img, (new_w, new_h), interpolation=interp)\n",
        "    pad_top = (target - new_h) // 2\n",
        "    pad_bottom = target - new_h - pad_top\n",
        "    pad_left = (target - new_w) // 2\n",
        "    pad_right = target - new_w - pad_left\n",
        "    return cv2.copyMakeBorder(\n",
        "        img_resized, pad_top, pad_bottom, pad_left, pad_right,\n",
        "        borderType=cv2.BORDER_CONSTANT, value=0\n",
        "    )\n",
        "\n",
        "def _class_to_idx(class_names: Sequence[str]) -> dict:\n",
        "    return {name: i for i, name in enumerate(class_names)}\n",
        "\n",
        "def list_images_split(\n",
        "    data_root: Path | str = DATA_ROOT,\n",
        "    split: str = \"train\",\n",
        "    class_names: Sequence[str] = None,\n",
        "    exts: Tuple[str, ...] = (\"*.jpg\", \"*.jpeg\", \"*.png\"),\n",
        ") -> Tuple[List[Path], np.ndarray]:\n",
        "\n",
        "    if class_names is None:\n",
        "        class_names = CLASS_NAMES\n",
        "    split_dir = Path(data_root) / split\n",
        "    cls2idx = _class_to_idx(class_names)\n",
        "\n",
        "    paths, labels = [], []\n",
        "    for cls in class_names:\n",
        "        cls_dir = split_dir / cls\n",
        "        found = []\n",
        "        for ext in exts:\n",
        "            found.extend(cls_dir.glob(ext))\n",
        "        for p in sorted(found):\n",
        "            paths.append(p)\n",
        "            labels.append(cls2idx[cls])\n",
        "\n",
        "    return paths, np.asarray(labels, dtype=np.int64)\n",
        "\n",
        "def load_image_gray(path: Path, img_size: int = IMG_SIZE) -> np.ndarray:\n",
        "    im = cv2.imread(str(path), cv2.IMREAD_GRAYSCALE)\n",
        "    im = resize_letterbox(im, img_size)\n",
        "    return (im.astype(np.float32) / 255.0)\n",
        "\n",
        "def load_batch(paths: Sequence[Path], img_size: int = IMG_SIZE) -> np.ndarray:\n",
        "    return np.stack([load_image_gray(p, img_size) for p in paths], axis=0)\n",
        "\n",
        "def load_data():\n",
        "    paths_train, y_train = list_images_split(DATA_ROOT, \"train\")\n",
        "    paths_test,  y_test  = list_images_split(DATA_ROOT, \"test\")\n",
        "    \n",
        "    X_train = load_batch(paths_train, IMG_SIZE)\n",
        "    X_test  = load_batch(paths_test, IMG_SIZE)\n",
        "    \n",
        "    print(\"Data loaded.\")\n",
        "    print(\"Train shape:\", X_train.shape, \" | Train labels:\", y_train.shape)\n",
        "    print(\"Test shape: \", X_test.shape,  \" | Test labels: \", y_test.shape)\n",
        "    \n",
        "    return X_train, X_test, y_train, y_test"
      ]
    },
    {
      "cell_type": "markdown",
      "metadata": {},
      "source": [
        " ## 3. Describe data"
      ]
    },
    {
      "cell_type": "code",
      "execution_count": null,
      "metadata": {
        "id": "hXIMTo96HgvU"
      },
      "outputs": [],
      "source": [
        "def describe_data(y_train, y_test):\n",
        "    train_counts = pd.Series(y_train).value_counts().sort_index()\n",
        "    test_counts  = pd.Series(y_test).value_counts().sort_index()\n",
        "    \n",
        "    idx2cls = {i: n for i, n in enumerate(CLASS_NAMES)}\n",
        "    \n",
        "    train_counts.index = [idx2cls[i] for i in train_counts.index]\n",
        "    test_counts.index  = [idx2cls[i] for i in test_counts.index]\n",
        "\n",
        "    fig, ax = plt.subplots(1,2, figsize=(10,4))\n",
        "    train_counts.plot(kind=\"bar\", ax=ax[0], title=\"Train class counts\")\n",
        "    test_counts.plot(kind=\"bar\", ax=ax[1], title=\"Test class counts\")\n",
        "    \n",
        "    plt.tight_layout(); plt.show()"
      ]
    },
    {
      "cell_type": "markdown",
      "metadata": {},
      "source": [
        "## 4. Pipeline: HOG -> PCA -> RF"
      ]
    },
    {
      "cell_type": "code",
      "execution_count": null,
      "metadata": {
        "id": "48WaZHayHkUL"
      },
      "outputs": [],
      "source": [
        "from skimage.feature import hog\n",
        "\n",
        "HOG_PARAMS_DEFAULT = dict(\n",
        "    orientations=9,\n",
        "    pixels_per_cell=(8,8),\n",
        "    cells_per_block=(2,2),\n",
        "    block_norm=\"L2-Hys\",\n",
        ")\n",
        "\n",
        "class HOGTransformer(BaseEstimator, TransformerMixin):\n",
        "    def __init__(self,\n",
        "                 orientations=9,\n",
        "                 pixels_per_cell=(8, 8),\n",
        "                 cells_per_block=(2, 2),\n",
        "                 block_norm=\"L2-Hys\"):\n",
        "        self.orientations = orientations\n",
        "        self.pixels_per_cell = pixels_per_cell\n",
        "        self.cells_per_block = cells_per_block\n",
        "        self.block_norm = block_norm\n",
        "\n",
        "    def fit(self, X, y=None):\n",
        "        return self\n",
        "\n",
        "    def transform(self, X):\n",
        "        X = np.asarray(X, dtype=np.float32)\n",
        "        \n",
        "        f0 = hog(\n",
        "            X[0],\n",
        "            orientations=self.orientations,\n",
        "            pixels_per_cell=self.pixels_per_cell,\n",
        "            cells_per_block=self.cells_per_block,\n",
        "            block_norm=self.block_norm,\n",
        "            feature_vector=True\n",
        "        ).astype(np.float32)\n",
        "\n",
        "        feats = np.empty((len(X), f0.size), dtype=np.float32)\n",
        "        feats[0] = f0\n",
        "        for i in range(1, len(X)):\n",
        "            feats[i] = hog(\n",
        "                X[i],\n",
        "                orientations=self.orientations,\n",
        "                pixels_per_cell=self.pixels_per_cell,\n",
        "                cells_per_block=self.cells_per_block,\n",
        "                block_norm=self.block_norm,\n",
        "                feature_vector=True\n",
        "            ).astype(np.float32)\n",
        "            \n",
        "        return feats\n",
        "\n",
        "class ShapeLogger(BaseEstimator, TransformerMixin):\n",
        "    def __init__(self, name=\"\"):\n",
        "        self.name = name\n",
        "        \n",
        "    def fit(self, X, y=None):\n",
        "        return self\n",
        "    \n",
        "    def transform(self, X):\n",
        "        print(f\"[LOG] {self.name} shape: {getattr(X, 'shape', None)}\")\n",
        "        return X\n",
        "\n",
        "def build_pipeline(hog_params=None, pca_n_components=None, rf_params=None):\n",
        "    hog_cfg = {**HOG_PARAMS_DEFAULT, **(hog_params or {})}\n",
        "\n",
        "    if pca_n_components is not None:\n",
        "        pca_nc = pca_n_components\n",
        "    else:\n",
        "        pca_nc = PCA_VAR  \n",
        "\n",
        "    base_rf_cfg = {\"random_state\": RANDOM_STATE}\n",
        "    if 'N_JOBS' in globals() and N_JOBS is not None:\n",
        "        base_rf_cfg[\"n_jobs\"] = N_JOBS\n",
        "    rf_cfg = {**base_rf_cfg, **(rf_params or {})}\n",
        "\n",
        "    return Pipeline([\n",
        "        (\"hog\", HOGTransformer(**hog_cfg)),\n",
        "        (\"log1\", ShapeLogger(\"After HOG\")),\n",
        "        (\"scaler\", StandardScaler()),\n",
        "        (\"pca\", PCA(n_components=pca_nc, random_state=RANDOM_STATE)),\n",
        "        (\"log2\", ShapeLogger(\"After PCA\")),\n",
        "        (\"clf\", RandomForestClassifier(**rf_cfg)),\n",
        "    ])\n"
      ]
    },
    {
      "cell_type": "markdown",
      "metadata": {},
      "source": [
        "## 5. Hyperparameters Optimization"
      ]
    },
    {
      "cell_type": "code",
      "execution_count": null,
      "metadata": {
        "id": "FgZ0H3ZxHmLb"
      },
      "outputs": [],
      "source": [
        "SPACE_JOINT = {\n",
        "    # === HOG ===\n",
        "    \"hog__orientations\": [9, 12, 18],\n",
        "    \"hog__pixels_per_cell\": [(8,8), (12,12)],\n",
        "    \"hog__cells_per_block\": [(2,2), (3,3)],\n",
        "\n",
        "    # === PCA ===\n",
        "    \"pca__n_components\": [0.90, 0.95, 128, 256],\n",
        "\n",
        "    # === Random Forest ===\n",
        "    \"clf__n_estimators\": [200, 400, 600, 800],\n",
        "    \"clf__max_depth\": [None, 20, 30, 40],\n",
        "    \"clf__max_features\": [\"sqrt\", \"log2\"],\n",
        "    \"clf__min_samples_split\": [1, 2, 5],\n",
        "    \"clf__min_samples_leaf\": [1, 2, 4],\n",
        "}\n",
        "\n",
        "def hpo(X_train, y_train):\n",
        "    cv = StratifiedKFold(n_splits=SEARCH_CV, shuffle=True, random_state=RANDOM_STATE)\n",
        "    est = build_pipeline()\n",
        "\n",
        "    search = RandomizedSearchCV(\n",
        "        estimator=est,\n",
        "        param_distributions=SPACE_JOINT,\n",
        "        n_iter=12,\n",
        "        cv=cv,\n",
        "        scoring=\"f1_macro\",\n",
        "        random_state=RANDOM_STATE,\n",
        "        n_jobs=N_JOBS,\n",
        "        verbose=2\n",
        "    )\n",
        "\n",
        "    search.fit(X_train, y_train)\n",
        "\n",
        "    print(\"=== Best Params ===\")\n",
        "    print(json.dumps(search.best_params_, indent=2))\n",
        "    \n",
        "    return search.best_estimator_, search.best_params_"
      ]
    },
    {
      "cell_type": "markdown",
      "metadata": {},
      "source": [
        "## 6. Evaluation"
      ]
    },
    {
      "cell_type": "code",
      "execution_count": null,
      "metadata": {
        "id": "Fuas51kaH2db"
      },
      "outputs": [],
      "source": [
        "def evaluate(model, X_test, y_test):\n",
        "    y_pred = model.predict(X_test)\n",
        "\n",
        "    print(\"\\n=== Metrics ===\")\n",
        "    print(\"Accuracy:          \", accuracy_score(y_test, y_pred))\n",
        "    print(\"Balanced Accuracy: \", balanced_accuracy_score(y_test, y_pred))\n",
        "    print(\"F1 Macro:          \", f1_score(y_test, y_pred, average=\"macro\"))\n",
        "\n",
        "    print(\"\\n=== Classification Report ===\")\n",
        "    print(classification_report(y_test, y_pred, target_names=CLASS_NAMES, digits=2))\n",
        "\n",
        " \n",
        "    cm = confusion_matrix(y_test, y_pred)\n",
        "    fig, ax = plt.subplots(figsize=(6,5))\n",
        "    im = ax.imshow(cm, cmap=plt.cm.Blues)\n",
        "    plt.colorbar(im, ax=ax)\n",
        "\n",
        "    ax.set_xticks(range(len(CLASS_NAMES)))\n",
        "    ax.set_yticks(range(len(CLASS_NAMES)))\n",
        "    ax.set_xticklabels(CLASS_NAMES, rotation=45, ha=\"right\")\n",
        "    ax.set_yticklabels(CLASS_NAMES)\n",
        "    ax.set_xlabel(\"Predicted\")\n",
        "    ax.set_ylabel(\"True\")\n",
        "    ax.set_title(\"Confusion Matrix\")\n",
        "\n",
        "    for i in range(cm.shape[0]):\n",
        "        for j in range(cm.shape[1]):\n",
        "            ax.text(j, i, str(cm[i, j]),\n",
        "                    ha=\"center\", va=\"center\",\n",
        "                    color=\"white\" if cm[i, j] > cm.max() / 2 else \"black\")\n",
        "\n",
        "    plt.tight_layout()\n",
        "    plt.show()\n"
      ]
    },
    {
      "cell_type": "markdown",
      "metadata": {},
      "source": [
        "## 8. Run"
      ]
    },
    {
      "cell_type": "code",
      "execution_count": null,
      "metadata": {
        "colab": {
          "base_uri": "https://localhost:8080/",
          "height": 1000
        },
        "id": "IRnxoreNi3kW",
        "outputId": "750e3194-c166-4a46-c6dc-fb3aaf857314"
      },
      "outputs": [
        {
          "name": "stdout",
          "output_type": "stream",
          "text": [
            "Data loaded.\n",
            "Train shape: (5000, 128, 128) Train labels: (5000,)\n",
            "Test shape:  (1000, 128, 128) Test labels:  (1000,)\n"
          ]
        },
        {
          "data": {
            "image/png": "[encoded data removed]",
            "text/plain": [
              "<Figure size 1000x400 with 2 Axes>"
            ]
          },
          "metadata": {},
          "output_type": "display_data"
        },
        {
          "name": "stdout",
          "output_type": "stream",
          "text": [
            "\n",
            "Fitting 5 folds for each of 12 candidates, totalling 60 fits\n",
            "[LOG] After HOG shape: (5000, 8100)\n",
            "[LOG] After PCA shape: (5000, 128)\n",
            "\n",
            "=== Best Params ===\n",
            "{\n",
            "  \"hog\": {\n",
            "    \"orientations\": 9,\n",
            "    \"pixels_per_cell\": [\n",
            "      8,\n",
            "      8\n",
            "    ],\n",
            "    \"cells_per_block\": [\n",
            "      2,\n",
            "      2\n",
            "    ]\n",
            "  },\n",
            "  \"pca_n_components\": 128,\n",
            "  \"rf\": {\n",
            "    \"n_estimators\": 600,\n",
            "    \"max_depth\": 30,\n",
            "    \"max_features\": \"log2\",\n",
            "    \"min_samples_split\": 2,\n",
            "    \"min_samples_leaf\": 1\n",
            "  }\n",
            "}\n",
            "\n",
            "\n",
            "[LOG] After HOG shape: (1000, 8100)\n",
            "[LOG] After PCA shape: (1000, 128)\n",
            "\n",
            "=== Metrics ===\n",
            "Accuracy:           0.915\n",
            "Balanced Accuracy:  0.9223293595653485\n",
            "F1 Macro:           0.9219068206172694\n",
            "\n",
            "=== Classification Report ===\n",
            "              precision    recall  f1-score   support\n",
            "\n",
            "      glioma       0.92      0.83      0.87       254\n",
            "  meningioma       0.86      0.88      0.87       306\n",
            "    no_tumor       0.97      0.99      0.98       140\n",
            "   pituitary       0.94      0.99      0.96       300\n",
            "\n",
            "    accuracy                           0.92      1000\n",
            "   macro avg       0.92      0.92      0.92      1000\n",
            "weighted avg       0.91      0.92      0.91      1000\n",
            "\n"
          ]
        },
        {
          "data": {
            "image/png": "[encoded data removed]",
            "text/plain": [
              "<Figure size 600x500 with 2 Axes>"
            ]
          },
          "metadata": {},
          "output_type": "display_data"
        },
        {
          "name": "stdout",
          "output_type": "stream",
          "text": [
            "\n",
            "Done.\n"
          ]
        }
      ],
      "source": [
        "X_train, X_test, y_train, y_test = load_data()\n",
        "STATE[\"X_train\"], STATE[\"X_test\"], STATE[\"y_train\"], STATE[\"y_test\"] = X_train, X_test, y_train, y_test\n",
        "\n",
        "describe_data(y_train, y_test)\n",
        "\n",
        "best_model, best_params = hpo(X_train, y_train)\n",
        "STATE[\"pipeline\"], STATE[\"best_params\"] = best_model, best_params\n",
        "\n",
        "evaluate(best_model, X_test, y_test)\n",
        "\n",
        "print(\"Done.\")"
      ]
    }
  ],
  "metadata": {
    "colab": {
      "provenance": []
    },
    "kernelspec": {
      "display_name": "Python 3",
      "name": "python3"
    },
    "language_info": {
      "name": "python"
    }
  },
  "nbformat": 4,
  "nbformat_minor": 0
}
